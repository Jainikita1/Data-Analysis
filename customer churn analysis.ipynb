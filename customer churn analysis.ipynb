{
 "cells": [
  {
   "cell_type": "code",
   "execution_count": 1,
   "id": "390048d7",
   "metadata": {},
   "outputs": [],
   "source": [
    "import matplotlib.pyplot as plt\n",
    "import seaborn as sns\n",
    "import pandas as pd\n",
    "import numpy as np\n",
    "import warnings\n",
    "warnings.filterwarnings('ignore')"
   ]
  },
  {
   "cell_type": "code",
   "execution_count": 2,
   "id": "b733d004",
   "metadata": {},
   "outputs": [],
   "source": [
    "Cust_Attr_stat=pd.read_csv('Desktop/Customer Data/Customer Attrition Status.csv')\n",
    "# print(Cust_Attr_stat.head())\n",
    "# Cust_Attr_stat.dtypes"
   ]
  },
  {
   "cell_type": "code",
   "execution_count": 3,
   "id": "c35c29ed",
   "metadata": {},
   "outputs": [],
   "source": [
    "Cust_Demog_stat=pd.read_csv('Desktop/Customer Data/Customer Demographics.csv')\n",
    "# print(Cust_Demog_stat.head())\n",
    "# Cust_Demog_stat.dtypes"
   ]
  },
  {
   "cell_type": "code",
   "execution_count": 4,
   "id": "29430def",
   "metadata": {},
   "outputs": [],
   "source": [
    "Cust_invest_snap=pd.read_csv('Desktop/Customer Data/Customer Investment Snapshot.csv')"
   ]
  },
  {
   "cell_type": "code",
   "execution_count": 5,
   "id": "1f8e6375",
   "metadata": {},
   "outputs": [],
   "source": [
    "Cust_portf_snap=pd.read_csv('Desktop/Customer Data/Customer Portfolio Snapshot.csv')"
   ]
  },
  {
   "cell_type": "code",
   "execution_count": 6,
   "id": "388fd205",
   "metadata": {},
   "outputs": [],
   "source": [
    "first_merge=pd.merge(Cust_Attr_stat,Cust_Demog_stat,on='CustomerId',suffixes=['_attr', '_demog'])\n",
    "# print(first_merge)"
   ]
  },
  {
   "cell_type": "code",
   "execution_count": 7,
   "id": "ba08cf85",
   "metadata": {},
   "outputs": [],
   "source": [
    "second_merge=pd.merge(Cust_invest_snap,Cust_portf_snap,on='CustomerId',suffixes=['_invest', '_portf'])\n",
    "# print(second_merge)"
   ]
  },
  {
   "cell_type": "code",
   "execution_count": 82,
   "id": "212d53bd",
   "metadata": {},
   "outputs": [],
   "source": [
    "all_data=pd.merge(first_merge,second_merge,on='CustomerId')\n",
    "all_data=all_data.rename(columns={'RowNumber_attr': 'RowNumber'})\n",
    "all_data=all_data.drop(columns=['RowNumber_demog','RowNumber_portf','RowNumber_invest'])\n",
    "# print(all_data.head())"
   ]
  },
  {
   "cell_type": "code",
   "execution_count": 83,
   "id": "713dc09e",
   "metadata": {},
   "outputs": [
    {
     "data": {
      "text/plain": [
       "Index(['RowNumber', 'CustomerId', 'Exited', 'Surname', 'Geography', 'Gender',\n",
       "       'Age', 'Tenure', 'CreditScore', 'Balance', 'EstimatedSalary',\n",
       "       'NumOfProducts', 'HasChckng', 'IsActiveMember'],\n",
       "      dtype='object')"
      ]
     },
     "execution_count": 83,
     "metadata": {},
     "output_type": "execute_result"
    }
   ],
   "source": [
    "all_data.columns"
   ]
  },
  {
   "cell_type": "code",
   "execution_count": 84,
   "id": "27e0b140",
   "metadata": {},
   "outputs": [
    {
     "data": {
      "text/html": [
       "<div>\n",
       "<style scoped>\n",
       "    .dataframe tbody tr th:only-of-type {\n",
       "        vertical-align: middle;\n",
       "    }\n",
       "\n",
       "    .dataframe tbody tr th {\n",
       "        vertical-align: top;\n",
       "    }\n",
       "\n",
       "    .dataframe thead th {\n",
       "        text-align: right;\n",
       "    }\n",
       "</style>\n",
       "<table border=\"1\" class=\"dataframe\">\n",
       "  <thead>\n",
       "    <tr style=\"text-align: right;\">\n",
       "      <th></th>\n",
       "      <th>RowNumber</th>\n",
       "      <th>CustomerId</th>\n",
       "      <th>Exited</th>\n",
       "      <th>Age</th>\n",
       "      <th>Tenure</th>\n",
       "      <th>CreditScore</th>\n",
       "      <th>Balance</th>\n",
       "      <th>EstimatedSalary</th>\n",
       "      <th>NumOfProducts</th>\n",
       "      <th>HasChckng</th>\n",
       "      <th>IsActiveMember</th>\n",
       "    </tr>\n",
       "  </thead>\n",
       "  <tbody>\n",
       "    <tr>\n",
       "      <th>count</th>\n",
       "      <td>10002.000000</td>\n",
       "      <td>1.000200e+04</td>\n",
       "      <td>10002.000000</td>\n",
       "      <td>10002.000000</td>\n",
       "      <td>10002.000000</td>\n",
       "      <td>9999.00000</td>\n",
       "      <td>6385.000000</td>\n",
       "      <td>10002.000000</td>\n",
       "      <td>10002.000000</td>\n",
       "      <td>10002.000000</td>\n",
       "      <td>10002.000000</td>\n",
       "    </tr>\n",
       "    <tr>\n",
       "      <th>mean</th>\n",
       "      <td>5000.031794</td>\n",
       "      <td>1.569097e+07</td>\n",
       "      <td>0.203859</td>\n",
       "      <td>38.943711</td>\n",
       "      <td>5.014797</td>\n",
       "      <td>650.50075</td>\n",
       "      <td>119841.627383</td>\n",
       "      <td>100105.624356</td>\n",
       "      <td>1.530494</td>\n",
       "      <td>0.705359</td>\n",
       "      <td>0.514997</td>\n",
       "    </tr>\n",
       "    <tr>\n",
       "      <th>std</th>\n",
       "      <td>2886.796875</td>\n",
       "      <td>7.195055e+04</td>\n",
       "      <td>0.402886</td>\n",
       "      <td>10.612675</td>\n",
       "      <td>2.902953</td>\n",
       "      <td>96.69932</td>\n",
       "      <td>30100.935329</td>\n",
       "      <td>57515.031841</td>\n",
       "      <td>0.581967</td>\n",
       "      <td>0.455904</td>\n",
       "      <td>0.499800</td>\n",
       "    </tr>\n",
       "    <tr>\n",
       "      <th>min</th>\n",
       "      <td>1.000000</td>\n",
       "      <td>1.556570e+07</td>\n",
       "      <td>0.000000</td>\n",
       "      <td>18.000000</td>\n",
       "      <td>0.000000</td>\n",
       "      <td>305.00000</td>\n",
       "      <td>3768.690000</td>\n",
       "      <td>11.580000</td>\n",
       "      <td>1.000000</td>\n",
       "      <td>0.000000</td>\n",
       "      <td>0.000000</td>\n",
       "    </tr>\n",
       "    <tr>\n",
       "      <th>25%</th>\n",
       "      <td>2501.250000</td>\n",
       "      <td>1.562854e+07</td>\n",
       "      <td>0.000000</td>\n",
       "      <td>32.000000</td>\n",
       "      <td>3.000000</td>\n",
       "      <td>584.00000</td>\n",
       "      <td>100194.440000</td>\n",
       "      <td>51012.472500</td>\n",
       "      <td>1.000000</td>\n",
       "      <td>0.000000</td>\n",
       "      <td>0.000000</td>\n",
       "    </tr>\n",
       "    <tr>\n",
       "      <th>50%</th>\n",
       "      <td>4999.500000</td>\n",
       "      <td>1.569074e+07</td>\n",
       "      <td>0.000000</td>\n",
       "      <td>37.000000</td>\n",
       "      <td>5.000000</td>\n",
       "      <td>652.00000</td>\n",
       "      <td>119852.010000</td>\n",
       "      <td>100218.210000</td>\n",
       "      <td>1.000000</td>\n",
       "      <td>1.000000</td>\n",
       "      <td>1.000000</td>\n",
       "    </tr>\n",
       "    <tr>\n",
       "      <th>75%</th>\n",
       "      <td>7499.750000</td>\n",
       "      <td>1.575331e+07</td>\n",
       "      <td>0.000000</td>\n",
       "      <td>44.000000</td>\n",
       "      <td>7.000000</td>\n",
       "      <td>717.50000</td>\n",
       "      <td>139529.930000</td>\n",
       "      <td>149400.922500</td>\n",
       "      <td>2.000000</td>\n",
       "      <td>1.000000</td>\n",
       "      <td>1.000000</td>\n",
       "    </tr>\n",
       "    <tr>\n",
       "      <th>max</th>\n",
       "      <td>10000.000000</td>\n",
       "      <td>1.581569e+07</td>\n",
       "      <td>1.000000</td>\n",
       "      <td>190.000000</td>\n",
       "      <td>30.000000</td>\n",
       "      <td>865.00000</td>\n",
       "      <td>250898.090000</td>\n",
       "      <td>199992.480000</td>\n",
       "      <td>4.000000</td>\n",
       "      <td>1.000000</td>\n",
       "      <td>1.000000</td>\n",
       "    </tr>\n",
       "  </tbody>\n",
       "</table>\n",
       "</div>"
      ],
      "text/plain": [
       "          RowNumber    CustomerId        Exited           Age        Tenure  \\\n",
       "count  10002.000000  1.000200e+04  10002.000000  10002.000000  10002.000000   \n",
       "mean    5000.031794  1.569097e+07      0.203859     38.943711      5.014797   \n",
       "std     2886.796875  7.195055e+04      0.402886     10.612675      2.902953   \n",
       "min        1.000000  1.556570e+07      0.000000     18.000000      0.000000   \n",
       "25%     2501.250000  1.562854e+07      0.000000     32.000000      3.000000   \n",
       "50%     4999.500000  1.569074e+07      0.000000     37.000000      5.000000   \n",
       "75%     7499.750000  1.575331e+07      0.000000     44.000000      7.000000   \n",
       "max    10000.000000  1.581569e+07      1.000000    190.000000     30.000000   \n",
       "\n",
       "       CreditScore        Balance  EstimatedSalary  NumOfProducts  \\\n",
       "count   9999.00000    6385.000000     10002.000000   10002.000000   \n",
       "mean     650.50075  119841.627383    100105.624356       1.530494   \n",
       "std       96.69932   30100.935329     57515.031841       0.581967   \n",
       "min      305.00000    3768.690000        11.580000       1.000000   \n",
       "25%      584.00000  100194.440000     51012.472500       1.000000   \n",
       "50%      652.00000  119852.010000    100218.210000       1.000000   \n",
       "75%      717.50000  139529.930000    149400.922500       2.000000   \n",
       "max      865.00000  250898.090000    199992.480000       4.000000   \n",
       "\n",
       "          HasChckng  IsActiveMember  \n",
       "count  10002.000000    10002.000000  \n",
       "mean       0.705359        0.514997  \n",
       "std        0.455904        0.499800  \n",
       "min        0.000000        0.000000  \n",
       "25%        0.000000        0.000000  \n",
       "50%        1.000000        1.000000  \n",
       "75%        1.000000        1.000000  \n",
       "max        1.000000        1.000000  "
      ]
     },
     "execution_count": 84,
     "metadata": {},
     "output_type": "execute_result"
    }
   ],
   "source": [
    "all_data.describe()"
   ]
  },
  {
   "cell_type": "code",
   "execution_count": 85,
   "id": "20b6f07d",
   "metadata": {},
   "outputs": [
    {
     "data": {
      "text/plain": [
       "RowNumber            int64\n",
       "CustomerId         float64\n",
       "Exited             float64\n",
       "Surname             object\n",
       "Geography           object\n",
       "Gender              object\n",
       "Age                float64\n",
       "Tenure             float64\n",
       "CreditScore        float64\n",
       "Balance            float64\n",
       "EstimatedSalary    float64\n",
       "NumOfProducts      float64\n",
       "HasChckng          float64\n",
       "IsActiveMember     float64\n",
       "dtype: object"
      ]
     },
     "execution_count": 85,
     "metadata": {},
     "output_type": "execute_result"
    }
   ],
   "source": [
    "all_data.dtypes"
   ]
  },
  {
   "cell_type": "code",
   "execution_count": 86,
   "id": "850e0c58",
   "metadata": {},
   "outputs": [
    {
     "name": "stdout",
     "output_type": "stream",
     "text": [
      "<class 'pandas.core.frame.DataFrame'>\n",
      "Int64Index: 10002 entries, 0 to 10001\n",
      "Data columns (total 14 columns):\n",
      " #   Column           Non-Null Count  Dtype  \n",
      "---  ------           --------------  -----  \n",
      " 0   RowNumber        10002 non-null  int64  \n",
      " 1   CustomerId       10002 non-null  float64\n",
      " 2   Exited           10002 non-null  float64\n",
      " 3   Surname          10002 non-null  object \n",
      " 4   Geography        10002 non-null  object \n",
      " 5   Gender           10002 non-null  object \n",
      " 6   Age              10002 non-null  float64\n",
      " 7   Tenure           10002 non-null  float64\n",
      " 8   CreditScore      9999 non-null   float64\n",
      " 9   Balance          6385 non-null   float64\n",
      " 10  EstimatedSalary  10002 non-null  float64\n",
      " 11  NumOfProducts    10002 non-null  float64\n",
      " 12  HasChckng        10002 non-null  float64\n",
      " 13  IsActiveMember   10002 non-null  float64\n",
      "dtypes: float64(10), int64(1), object(3)\n",
      "memory usage: 1.1+ MB\n"
     ]
    }
   ],
   "source": [
    "all_data.info()"
   ]
  },
  {
   "cell_type": "code",
   "execution_count": 87,
   "id": "d100612d",
   "metadata": {},
   "outputs": [
    {
     "data": {
      "text/html": [
       "<div>\n",
       "<style scoped>\n",
       "    .dataframe tbody tr th:only-of-type {\n",
       "        vertical-align: middle;\n",
       "    }\n",
       "\n",
       "    .dataframe tbody tr th {\n",
       "        vertical-align: top;\n",
       "    }\n",
       "\n",
       "    .dataframe thead th {\n",
       "        text-align: right;\n",
       "    }\n",
       "</style>\n",
       "<table border=\"1\" class=\"dataframe\">\n",
       "  <thead>\n",
       "    <tr style=\"text-align: right;\">\n",
       "      <th></th>\n",
       "      <th>RowNumber</th>\n",
       "      <th>CustomerId</th>\n",
       "      <th>Exited</th>\n",
       "      <th>Surname</th>\n",
       "      <th>Geography</th>\n",
       "      <th>Gender</th>\n",
       "      <th>Age</th>\n",
       "      <th>Tenure</th>\n",
       "      <th>CreditScore</th>\n",
       "      <th>Balance</th>\n",
       "      <th>EstimatedSalary</th>\n",
       "      <th>NumOfProducts</th>\n",
       "      <th>HasChckng</th>\n",
       "      <th>IsActiveMember</th>\n",
       "    </tr>\n",
       "  </thead>\n",
       "  <tbody>\n",
       "    <tr>\n",
       "      <th>0</th>\n",
       "      <td>1</td>\n",
       "      <td>15634602.0</td>\n",
       "      <td>1.0</td>\n",
       "      <td>Hargrave</td>\n",
       "      <td>West</td>\n",
       "      <td>Female</td>\n",
       "      <td>42.0</td>\n",
       "      <td>2.0</td>\n",
       "      <td>619.0</td>\n",
       "      <td>NaN</td>\n",
       "      <td>101348.88</td>\n",
       "      <td>1.0</td>\n",
       "      <td>1.0</td>\n",
       "      <td>1.0</td>\n",
       "    </tr>\n",
       "    <tr>\n",
       "      <th>1</th>\n",
       "      <td>2</td>\n",
       "      <td>15647311.0</td>\n",
       "      <td>0.0</td>\n",
       "      <td>Hill</td>\n",
       "      <td>Central</td>\n",
       "      <td>Female</td>\n",
       "      <td>41.0</td>\n",
       "      <td>1.0</td>\n",
       "      <td>608.0</td>\n",
       "      <td>83807.86</td>\n",
       "      <td>112542.58</td>\n",
       "      <td>1.0</td>\n",
       "      <td>0.0</td>\n",
       "      <td>1.0</td>\n",
       "    </tr>\n",
       "    <tr>\n",
       "      <th>2</th>\n",
       "      <td>3</td>\n",
       "      <td>15619304.0</td>\n",
       "      <td>1.0</td>\n",
       "      <td>Onio</td>\n",
       "      <td>West</td>\n",
       "      <td>Female</td>\n",
       "      <td>42.0</td>\n",
       "      <td>8.0</td>\n",
       "      <td>502.0</td>\n",
       "      <td>159660.80</td>\n",
       "      <td>113931.57</td>\n",
       "      <td>3.0</td>\n",
       "      <td>1.0</td>\n",
       "      <td>0.0</td>\n",
       "    </tr>\n",
       "    <tr>\n",
       "      <th>3</th>\n",
       "      <td>4</td>\n",
       "      <td>15701354.0</td>\n",
       "      <td>0.0</td>\n",
       "      <td>Boni</td>\n",
       "      <td>West</td>\n",
       "      <td>Female</td>\n",
       "      <td>39.0</td>\n",
       "      <td>1.0</td>\n",
       "      <td>699.0</td>\n",
       "      <td>NaN</td>\n",
       "      <td>93826.63</td>\n",
       "      <td>2.0</td>\n",
       "      <td>0.0</td>\n",
       "      <td>0.0</td>\n",
       "    </tr>\n",
       "    <tr>\n",
       "      <th>4</th>\n",
       "      <td>5</td>\n",
       "      <td>15737888.0</td>\n",
       "      <td>0.0</td>\n",
       "      <td>Mitchell</td>\n",
       "      <td>Central</td>\n",
       "      <td>Female</td>\n",
       "      <td>43.0</td>\n",
       "      <td>2.0</td>\n",
       "      <td>850.0</td>\n",
       "      <td>125510.82</td>\n",
       "      <td>79084.10</td>\n",
       "      <td>1.0</td>\n",
       "      <td>1.0</td>\n",
       "      <td>1.0</td>\n",
       "    </tr>\n",
       "    <tr>\n",
       "      <th>...</th>\n",
       "      <td>...</td>\n",
       "      <td>...</td>\n",
       "      <td>...</td>\n",
       "      <td>...</td>\n",
       "      <td>...</td>\n",
       "      <td>...</td>\n",
       "      <td>...</td>\n",
       "      <td>...</td>\n",
       "      <td>...</td>\n",
       "      <td>...</td>\n",
       "      <td>...</td>\n",
       "      <td>...</td>\n",
       "      <td>...</td>\n",
       "      <td>...</td>\n",
       "    </tr>\n",
       "    <tr>\n",
       "      <th>9997</th>\n",
       "      <td>9996</td>\n",
       "      <td>15606229.0</td>\n",
       "      <td>0.0</td>\n",
       "      <td>Obijiaku</td>\n",
       "      <td>West</td>\n",
       "      <td>Male</td>\n",
       "      <td>39.0</td>\n",
       "      <td>5.0</td>\n",
       "      <td>771.0</td>\n",
       "      <td>NaN</td>\n",
       "      <td>96270.64</td>\n",
       "      <td>2.0</td>\n",
       "      <td>1.0</td>\n",
       "      <td>0.0</td>\n",
       "    </tr>\n",
       "    <tr>\n",
       "      <th>9998</th>\n",
       "      <td>9997</td>\n",
       "      <td>15569892.0</td>\n",
       "      <td>0.0</td>\n",
       "      <td>Johnstone</td>\n",
       "      <td>West</td>\n",
       "      <td>Male</td>\n",
       "      <td>35.0</td>\n",
       "      <td>10.0</td>\n",
       "      <td>516.0</td>\n",
       "      <td>57369.61</td>\n",
       "      <td>101699.77</td>\n",
       "      <td>1.0</td>\n",
       "      <td>1.0</td>\n",
       "      <td>1.0</td>\n",
       "    </tr>\n",
       "    <tr>\n",
       "      <th>9999</th>\n",
       "      <td>9998</td>\n",
       "      <td>15584532.0</td>\n",
       "      <td>1.0</td>\n",
       "      <td>Liu</td>\n",
       "      <td>West</td>\n",
       "      <td>Female</td>\n",
       "      <td>36.0</td>\n",
       "      <td>7.0</td>\n",
       "      <td>709.0</td>\n",
       "      <td>NaN</td>\n",
       "      <td>42085.58</td>\n",
       "      <td>1.0</td>\n",
       "      <td>0.0</td>\n",
       "      <td>1.0</td>\n",
       "    </tr>\n",
       "    <tr>\n",
       "      <th>10000</th>\n",
       "      <td>9999</td>\n",
       "      <td>15682355.0</td>\n",
       "      <td>1.0</td>\n",
       "      <td>Sabbatini</td>\n",
       "      <td>East</td>\n",
       "      <td>Male</td>\n",
       "      <td>42.0</td>\n",
       "      <td>3.0</td>\n",
       "      <td>772.0</td>\n",
       "      <td>75075.31</td>\n",
       "      <td>92888.52</td>\n",
       "      <td>2.0</td>\n",
       "      <td>1.0</td>\n",
       "      <td>0.0</td>\n",
       "    </tr>\n",
       "    <tr>\n",
       "      <th>10001</th>\n",
       "      <td>10000</td>\n",
       "      <td>15628319.0</td>\n",
       "      <td>0.0</td>\n",
       "      <td>Walker</td>\n",
       "      <td>West</td>\n",
       "      <td>Female</td>\n",
       "      <td>28.0</td>\n",
       "      <td>4.0</td>\n",
       "      <td>792.0</td>\n",
       "      <td>130142.79</td>\n",
       "      <td>38190.78</td>\n",
       "      <td>1.0</td>\n",
       "      <td>1.0</td>\n",
       "      <td>0.0</td>\n",
       "    </tr>\n",
       "  </tbody>\n",
       "</table>\n",
       "<p>10002 rows × 14 columns</p>\n",
       "</div>"
      ],
      "text/plain": [
       "       RowNumber  CustomerId  Exited    Surname Geography  Gender   Age  \\\n",
       "0              1  15634602.0     1.0   Hargrave      West  Female  42.0   \n",
       "1              2  15647311.0     0.0       Hill   Central  Female  41.0   \n",
       "2              3  15619304.0     1.0       Onio      West  Female  42.0   \n",
       "3              4  15701354.0     0.0       Boni      West  Female  39.0   \n",
       "4              5  15737888.0     0.0   Mitchell   Central  Female  43.0   \n",
       "...          ...         ...     ...        ...       ...     ...   ...   \n",
       "9997        9996  15606229.0     0.0   Obijiaku      West    Male  39.0   \n",
       "9998        9997  15569892.0     0.0  Johnstone      West    Male  35.0   \n",
       "9999        9998  15584532.0     1.0        Liu      West  Female  36.0   \n",
       "10000       9999  15682355.0     1.0  Sabbatini      East    Male  42.0   \n",
       "10001      10000  15628319.0     0.0     Walker      West  Female  28.0   \n",
       "\n",
       "       Tenure  CreditScore    Balance  EstimatedSalary  NumOfProducts  \\\n",
       "0         2.0        619.0        NaN        101348.88            1.0   \n",
       "1         1.0        608.0   83807.86        112542.58            1.0   \n",
       "2         8.0        502.0  159660.80        113931.57            3.0   \n",
       "3         1.0        699.0        NaN         93826.63            2.0   \n",
       "4         2.0        850.0  125510.82         79084.10            1.0   \n",
       "...       ...          ...        ...              ...            ...   \n",
       "9997      5.0        771.0        NaN         96270.64            2.0   \n",
       "9998     10.0        516.0   57369.61        101699.77            1.0   \n",
       "9999      7.0        709.0        NaN         42085.58            1.0   \n",
       "10000     3.0        772.0   75075.31         92888.52            2.0   \n",
       "10001     4.0        792.0  130142.79         38190.78            1.0   \n",
       "\n",
       "       HasChckng  IsActiveMember  \n",
       "0            1.0             1.0  \n",
       "1            0.0             1.0  \n",
       "2            1.0             0.0  \n",
       "3            0.0             0.0  \n",
       "4            1.0             1.0  \n",
       "...          ...             ...  \n",
       "9997         1.0             0.0  \n",
       "9998         1.0             1.0  \n",
       "9999         0.0             1.0  \n",
       "10000        1.0             0.0  \n",
       "10001        1.0             0.0  \n",
       "\n",
       "[10002 rows x 14 columns]"
      ]
     },
     "execution_count": 87,
     "metadata": {},
     "output_type": "execute_result"
    }
   ],
   "source": [
    "all_data.dropna(how='all')"
   ]
  },
  {
   "cell_type": "code",
   "execution_count": 88,
   "id": "cc670a29",
   "metadata": {},
   "outputs": [
    {
     "data": {
      "text/plain": [
       "RowNumber             0\n",
       "CustomerId            0\n",
       "Exited                0\n",
       "Surname               0\n",
       "Geography             0\n",
       "Gender                0\n",
       "Age                   0\n",
       "Tenure                0\n",
       "CreditScore           3\n",
       "Balance            3617\n",
       "EstimatedSalary       0\n",
       "NumOfProducts         0\n",
       "HasChckng             0\n",
       "IsActiveMember        0\n",
       "dtype: int64"
      ]
     },
     "execution_count": 88,
     "metadata": {},
     "output_type": "execute_result"
    }
   ],
   "source": [
    "all_data.isna().sum()"
   ]
  },
  {
   "cell_type": "code",
   "execution_count": 89,
   "id": "1ffd2d1c",
   "metadata": {},
   "outputs": [],
   "source": [
    "all_data['Balance'].fillna(0,inplace = True)\n",
    "all_data['CreditScore'].fillna(method ='ffill', inplace = True)"
   ]
  },
  {
   "cell_type": "code",
   "execution_count": 90,
   "id": "a81b0a57",
   "metadata": {},
   "outputs": [
    {
     "data": {
      "text/plain": [
       "<AxesSubplot:xlabel='CreditScore', ylabel='Density'>"
      ]
     },
     "execution_count": 90,
     "metadata": {},
     "output_type": "execute_result"
    },
    {
     "data": {
      "image/png": "[encoded data removed]",
      "text/plain": [
       "<Figure size 432x288 with 1 Axes>"
      ]
     },
     "metadata": {
      "needs_background": "light"
     },
     "output_type": "display_data"
    }
   ],
   "source": [
    "sns.distplot(all_data['CreditScore'],hist=True)"
   ]
  },
  {
   "cell_type": "code",
   "execution_count": 91,
   "id": "9ee6549c",
   "metadata": {},
   "outputs": [
    {
     "data": {
      "text/plain": [
       "<AxesSubplot:xlabel='Balance', ylabel='Density'>"
      ]
     },
     "execution_count": 91,
     "metadata": {},
     "output_type": "execute_result"
    },
    {
     "data": {
      "image/png": "[encoded data removed]",
      "text/plain": [
       "<Figure size 432x288 with 1 Axes>"
      ]
     },
     "metadata": {
      "needs_background": "light"
     },
     "output_type": "display_data"
    }
   ],
   "source": [
    "sns.distplot(all_data['Balance'],hist=True)"
   ]
  },
  {
   "cell_type": "code",
   "execution_count": 92,
   "id": "1f26e3f6",
   "metadata": {},
   "outputs": [
    {
     "data": {
      "text/plain": [
       "RowNumber          0\n",
       "CustomerId         0\n",
       "Exited             0\n",
       "Surname            0\n",
       "Geography          0\n",
       "Gender             0\n",
       "Age                0\n",
       "Tenure             0\n",
       "CreditScore        0\n",
       "Balance            0\n",
       "EstimatedSalary    0\n",
       "NumOfProducts      0\n",
       "HasChckng          0\n",
       "IsActiveMember     0\n",
       "dtype: int64"
      ]
     },
     "execution_count": 92,
     "metadata": {},
     "output_type": "execute_result"
    }
   ],
   "source": [
    "all_data.isna().sum()"
   ]
  },
  {
   "cell_type": "code",
   "execution_count": 93,
   "id": "b5d9dee2",
   "metadata": {},
   "outputs": [
    {
     "data": {
      "text/html": [
       "<div>\n",
       "<style scoped>\n",
       "    .dataframe tbody tr th:only-of-type {\n",
       "        vertical-align: middle;\n",
       "    }\n",
       "\n",
       "    .dataframe tbody tr th {\n",
       "        vertical-align: top;\n",
       "    }\n",
       "\n",
       "    .dataframe thead th {\n",
       "        text-align: right;\n",
       "    }\n",
       "</style>\n",
       "<table border=\"1\" class=\"dataframe\">\n",
       "  <thead>\n",
       "    <tr style=\"text-align: right;\">\n",
       "      <th></th>\n",
       "      <th>RowNumber</th>\n",
       "      <th>CustomerId</th>\n",
       "      <th>Exited</th>\n",
       "      <th>Surname</th>\n",
       "      <th>Geography</th>\n",
       "      <th>Gender</th>\n",
       "      <th>Age</th>\n",
       "      <th>Tenure</th>\n",
       "      <th>CreditScore</th>\n",
       "      <th>Balance</th>\n",
       "      <th>EstimatedSalary</th>\n",
       "      <th>NumOfProducts</th>\n",
       "      <th>HasChckng</th>\n",
       "      <th>IsActiveMember</th>\n",
       "    </tr>\n",
       "  </thead>\n",
       "  <tbody>\n",
       "    <tr>\n",
       "      <th>9992</th>\n",
       "      <td>9991</td>\n",
       "      <td>15798964.0</td>\n",
       "      <td>0.0</td>\n",
       "      <td>Nkemakonam</td>\n",
       "      <td>East</td>\n",
       "      <td>Male</td>\n",
       "      <td>33.0</td>\n",
       "      <td>3.0</td>\n",
       "      <td>714.0</td>\n",
       "      <td>35016.60</td>\n",
       "      <td>53667.08</td>\n",
       "      <td>1.0</td>\n",
       "      <td>1.0</td>\n",
       "      <td>0.0</td>\n",
       "    </tr>\n",
       "    <tr>\n",
       "      <th>9993</th>\n",
       "      <td>9992</td>\n",
       "      <td>15769959.0</td>\n",
       "      <td>1.0</td>\n",
       "      <td>Ajuluchukwu</td>\n",
       "      <td>West</td>\n",
       "      <td>Female</td>\n",
       "      <td>53.0</td>\n",
       "      <td>4.0</td>\n",
       "      <td>597.0</td>\n",
       "      <td>88381.21</td>\n",
       "      <td>69384.71</td>\n",
       "      <td>1.0</td>\n",
       "      <td>1.0</td>\n",
       "      <td>0.0</td>\n",
       "    </tr>\n",
       "    <tr>\n",
       "      <th>9994</th>\n",
       "      <td>9993</td>\n",
       "      <td>15657105.0</td>\n",
       "      <td>0.0</td>\n",
       "      <td>Chukwualuka</td>\n",
       "      <td>Central</td>\n",
       "      <td>Male</td>\n",
       "      <td>36.0</td>\n",
       "      <td>2.0</td>\n",
       "      <td>726.0</td>\n",
       "      <td>0.00</td>\n",
       "      <td>195192.40</td>\n",
       "      <td>1.0</td>\n",
       "      <td>1.0</td>\n",
       "      <td>0.0</td>\n",
       "    </tr>\n",
       "    <tr>\n",
       "      <th>9995</th>\n",
       "      <td>9994</td>\n",
       "      <td>15569266.0</td>\n",
       "      <td>0.0</td>\n",
       "      <td>Rahman</td>\n",
       "      <td>West</td>\n",
       "      <td>Male</td>\n",
       "      <td>28.0</td>\n",
       "      <td>7.0</td>\n",
       "      <td>644.0</td>\n",
       "      <td>155060.41</td>\n",
       "      <td>29179.52</td>\n",
       "      <td>1.0</td>\n",
       "      <td>1.0</td>\n",
       "      <td>0.0</td>\n",
       "    </tr>\n",
       "    <tr>\n",
       "      <th>9996</th>\n",
       "      <td>9995</td>\n",
       "      <td>15719294.0</td>\n",
       "      <td>0.0</td>\n",
       "      <td>Wood</td>\n",
       "      <td>West</td>\n",
       "      <td>Female</td>\n",
       "      <td>29.0</td>\n",
       "      <td>2.0</td>\n",
       "      <td>800.0</td>\n",
       "      <td>0.00</td>\n",
       "      <td>167773.55</td>\n",
       "      <td>2.0</td>\n",
       "      <td>0.0</td>\n",
       "      <td>0.0</td>\n",
       "    </tr>\n",
       "    <tr>\n",
       "      <th>9997</th>\n",
       "      <td>9996</td>\n",
       "      <td>15606229.0</td>\n",
       "      <td>0.0</td>\n",
       "      <td>Obijiaku</td>\n",
       "      <td>West</td>\n",
       "      <td>Male</td>\n",
       "      <td>39.0</td>\n",
       "      <td>5.0</td>\n",
       "      <td>771.0</td>\n",
       "      <td>0.00</td>\n",
       "      <td>96270.64</td>\n",
       "      <td>2.0</td>\n",
       "      <td>1.0</td>\n",
       "      <td>0.0</td>\n",
       "    </tr>\n",
       "    <tr>\n",
       "      <th>9998</th>\n",
       "      <td>9997</td>\n",
       "      <td>15569892.0</td>\n",
       "      <td>0.0</td>\n",
       "      <td>Johnstone</td>\n",
       "      <td>West</td>\n",
       "      <td>Male</td>\n",
       "      <td>35.0</td>\n",
       "      <td>10.0</td>\n",
       "      <td>516.0</td>\n",
       "      <td>57369.61</td>\n",
       "      <td>101699.77</td>\n",
       "      <td>1.0</td>\n",
       "      <td>1.0</td>\n",
       "      <td>1.0</td>\n",
       "    </tr>\n",
       "    <tr>\n",
       "      <th>9999</th>\n",
       "      <td>9998</td>\n",
       "      <td>15584532.0</td>\n",
       "      <td>1.0</td>\n",
       "      <td>Liu</td>\n",
       "      <td>West</td>\n",
       "      <td>Female</td>\n",
       "      <td>36.0</td>\n",
       "      <td>7.0</td>\n",
       "      <td>709.0</td>\n",
       "      <td>0.00</td>\n",
       "      <td>42085.58</td>\n",
       "      <td>1.0</td>\n",
       "      <td>0.0</td>\n",
       "      <td>1.0</td>\n",
       "    </tr>\n",
       "    <tr>\n",
       "      <th>10000</th>\n",
       "      <td>9999</td>\n",
       "      <td>15682355.0</td>\n",
       "      <td>1.0</td>\n",
       "      <td>Sabbatini</td>\n",
       "      <td>East</td>\n",
       "      <td>Male</td>\n",
       "      <td>42.0</td>\n",
       "      <td>3.0</td>\n",
       "      <td>772.0</td>\n",
       "      <td>75075.31</td>\n",
       "      <td>92888.52</td>\n",
       "      <td>2.0</td>\n",
       "      <td>1.0</td>\n",
       "      <td>0.0</td>\n",
       "    </tr>\n",
       "    <tr>\n",
       "      <th>10001</th>\n",
       "      <td>10000</td>\n",
       "      <td>15628319.0</td>\n",
       "      <td>0.0</td>\n",
       "      <td>Walker</td>\n",
       "      <td>West</td>\n",
       "      <td>Female</td>\n",
       "      <td>28.0</td>\n",
       "      <td>4.0</td>\n",
       "      <td>792.0</td>\n",
       "      <td>130142.79</td>\n",
       "      <td>38190.78</td>\n",
       "      <td>1.0</td>\n",
       "      <td>1.0</td>\n",
       "      <td>0.0</td>\n",
       "    </tr>\n",
       "  </tbody>\n",
       "</table>\n",
       "</div>"
      ],
      "text/plain": [
       "       RowNumber  CustomerId  Exited      Surname Geography  Gender   Age  \\\n",
       "9992        9991  15798964.0     0.0   Nkemakonam      East    Male  33.0   \n",
       "9993        9992  15769959.0     1.0  Ajuluchukwu      West  Female  53.0   \n",
       "9994        9993  15657105.0     0.0  Chukwualuka   Central    Male  36.0   \n",
       "9995        9994  15569266.0     0.0       Rahman      West    Male  28.0   \n",
       "9996        9995  15719294.0     0.0         Wood      West  Female  29.0   \n",
       "9997        9996  15606229.0     0.0     Obijiaku      West    Male  39.0   \n",
       "9998        9997  15569892.0     0.0    Johnstone      West    Male  35.0   \n",
       "9999        9998  15584532.0     1.0          Liu      West  Female  36.0   \n",
       "10000       9999  15682355.0     1.0    Sabbatini      East    Male  42.0   \n",
       "10001      10000  15628319.0     0.0       Walker      West  Female  28.0   \n",
       "\n",
       "       Tenure  CreditScore    Balance  EstimatedSalary  NumOfProducts  \\\n",
       "9992      3.0        714.0   35016.60         53667.08            1.0   \n",
       "9993      4.0        597.0   88381.21         69384.71            1.0   \n",
       "9994      2.0        726.0       0.00        195192.40            1.0   \n",
       "9995      7.0        644.0  155060.41         29179.52            1.0   \n",
       "9996      2.0        800.0       0.00        167773.55            2.0   \n",
       "9997      5.0        771.0       0.00         96270.64            2.0   \n",
       "9998     10.0        516.0   57369.61        101699.77            1.0   \n",
       "9999      7.0        709.0       0.00         42085.58            1.0   \n",
       "10000     3.0        772.0   75075.31         92888.52            2.0   \n",
       "10001     4.0        792.0  130142.79         38190.78            1.0   \n",
       "\n",
       "       HasChckng  IsActiveMember  \n",
       "9992         1.0             0.0  \n",
       "9993         1.0             0.0  \n",
       "9994         1.0             0.0  \n",
       "9995         1.0             0.0  \n",
       "9996         0.0             0.0  \n",
       "9997         1.0             0.0  \n",
       "9998         1.0             1.0  \n",
       "9999         0.0             1.0  \n",
       "10000        1.0             0.0  \n",
       "10001        1.0             0.0  "
      ]
     },
     "execution_count": 93,
     "metadata": {},
     "output_type": "execute_result"
    }
   ],
   "source": [
    "all_data.tail(10)"
   ]
  },
  {
   "cell_type": "code",
   "execution_count": 94,
   "id": "f6bed830",
   "metadata": {},
   "outputs": [
    {
     "data": {
      "text/plain": [
       "(10002, 14)"
      ]
     },
     "execution_count": 94,
     "metadata": {},
     "output_type": "execute_result"
    }
   ],
   "source": [
    "duplicate = all_data[all_data.duplicated(['CustomerId', 'Surname'])]\n",
    "# print(duplicate)\n",
    "all_data.shape"
   ]
  },
  {
   "cell_type": "code",
   "execution_count": 95,
   "id": "c676a912",
   "metadata": {},
   "outputs": [
    {
     "data": {
      "text/plain": [
       "(10000, 14)"
      ]
     },
     "execution_count": 95,
     "metadata": {},
     "output_type": "execute_result"
    }
   ],
   "source": [
    "all_data.drop_duplicates(keep='first',inplace=True)\n",
    "all_data.shape"
   ]
  },
  {
   "cell_type": "code",
   "execution_count": 96,
   "id": "06c0f87b",
   "metadata": {},
   "outputs": [
    {
     "data": {
      "text/plain": [
       "0        3.316373\n",
       "1        3.316193\n",
       "2        3.315777\n",
       "3        3.316411\n",
       "4        3.316145\n",
       "           ...   \n",
       "9997     3.316399\n",
       "9998     3.316325\n",
       "9999     3.316581\n",
       "10000    3.316321\n",
       "10001    3.316207\n",
       "Length: 10000, dtype: float64"
      ]
     },
     "execution_count": 96,
     "metadata": {},
     "output_type": "execute_result"
    }
   ],
   "source": [
    "all_data.skew(axis = 1, skipna = True)"
   ]
  },
  {
   "cell_type": "code",
   "execution_count": 97,
   "id": "dd8462f5",
   "metadata": {},
   "outputs": [
    {
     "data": {
      "text/plain": [
       "array(['Female', 'Male', 'Neutral'], dtype=object)"
      ]
     },
     "execution_count": 97,
     "metadata": {},
     "output_type": "execute_result"
    }
   ],
   "source": [
    "all_data['Gender'].unique()"
   ]
  },
  {
   "cell_type": "code",
   "execution_count": 98,
   "id": "4ab67ea8",
   "metadata": {},
   "outputs": [
    {
     "data": {
      "text/plain": [
       "Male       5453\n",
       "Female     4539\n",
       "Neutral       8\n",
       "Name: Gender, dtype: int64"
      ]
     },
     "execution_count": 98,
     "metadata": {},
     "output_type": "execute_result"
    }
   ],
   "source": [
    "all_data.Gender.value_counts()"
   ]
  },
  {
   "cell_type": "code",
   "execution_count": 99,
   "id": "d819b2c1",
   "metadata": {},
   "outputs": [
    {
     "data": {
      "image/png": "[encoded data removed]",
      "text/plain": [
       "<Figure size 432x288 with 1 Axes>"
      ]
     },
     "metadata": {
      "needs_background": "light"
     },
     "output_type": "display_data"
    }
   ],
   "source": [
    "plt.hist(all_data['Gender'])\n",
    "plt.show()"
   ]
  },
  {
   "cell_type": "code",
   "execution_count": 100,
   "id": "42cc641e",
   "metadata": {},
   "outputs": [
    {
     "data": {
      "text/plain": [
       "West       5014\n",
       "East       2509\n",
       "Central    2477\n",
       "Name: Geography, dtype: int64"
      ]
     },
     "execution_count": 100,
     "metadata": {},
     "output_type": "execute_result"
    }
   ],
   "source": [
    "all_data.Geography.value_counts()"
   ]
  },
  {
   "cell_type": "code",
   "execution_count": 101,
   "id": "1cf6009e",
   "metadata": {},
   "outputs": [
    {
     "data": {
      "image/png": "[encoded data removed]",
      "text/plain": [
       "<Figure size 432x288 with 1 Axes>"
      ]
     },
     "metadata": {
      "needs_background": "light"
     },
     "output_type": "display_data"
    }
   ],
   "source": [
    "plt.hist(all_data['Geography'])\n",
    "plt.show()"
   ]
  },
  {
   "cell_type": "code",
   "execution_count": 102,
   "id": "5fa594d6",
   "metadata": {},
   "outputs": [
    {
     "data": {
      "text/html": [
       "<div>\n",
       "<style scoped>\n",
       "    .dataframe tbody tr th:only-of-type {\n",
       "        vertical-align: middle;\n",
       "    }\n",
       "\n",
       "    .dataframe tbody tr th {\n",
       "        vertical-align: top;\n",
       "    }\n",
       "\n",
       "    .dataframe thead th {\n",
       "        text-align: right;\n",
       "    }\n",
       "</style>\n",
       "<table border=\"1\" class=\"dataframe\">\n",
       "  <thead>\n",
       "    <tr style=\"text-align: right;\">\n",
       "      <th></th>\n",
       "      <th>RowNumber</th>\n",
       "      <th>CustomerId</th>\n",
       "      <th>Exited</th>\n",
       "      <th>Age</th>\n",
       "      <th>Tenure</th>\n",
       "      <th>CreditScore</th>\n",
       "      <th>Balance</th>\n",
       "      <th>EstimatedSalary</th>\n",
       "      <th>NumOfProducts</th>\n",
       "      <th>HasChckng</th>\n",
       "      <th>IsActiveMember</th>\n",
       "    </tr>\n",
       "  </thead>\n",
       "  <tbody>\n",
       "    <tr>\n",
       "      <th>RowNumber</th>\n",
       "      <td>1.000000</td>\n",
       "      <td>0.004202</td>\n",
       "      <td>-0.016571</td>\n",
       "      <td>-0.000440</td>\n",
       "      <td>-0.008020</td>\n",
       "      <td>0.006868</td>\n",
       "      <td>-0.009067</td>\n",
       "      <td>-0.005988</td>\n",
       "      <td>0.007246</td>\n",
       "      <td>0.000599</td>\n",
       "      <td>0.012044</td>\n",
       "    </tr>\n",
       "    <tr>\n",
       "      <th>CustomerId</th>\n",
       "      <td>0.004202</td>\n",
       "      <td>1.000000</td>\n",
       "      <td>-0.006248</td>\n",
       "      <td>0.008627</td>\n",
       "      <td>-0.015261</td>\n",
       "      <td>0.005910</td>\n",
       "      <td>-0.012419</td>\n",
       "      <td>0.015271</td>\n",
       "      <td>0.016972</td>\n",
       "      <td>-0.014025</td>\n",
       "      <td>0.001665</td>\n",
       "    </tr>\n",
       "    <tr>\n",
       "      <th>Exited</th>\n",
       "      <td>-0.016571</td>\n",
       "      <td>-0.006248</td>\n",
       "      <td>1.000000</td>\n",
       "      <td>0.280904</td>\n",
       "      <td>-0.012178</td>\n",
       "      <td>-0.027609</td>\n",
       "      <td>0.118533</td>\n",
       "      <td>0.012097</td>\n",
       "      <td>-0.047820</td>\n",
       "      <td>-0.007138</td>\n",
       "      <td>-0.156128</td>\n",
       "    </tr>\n",
       "    <tr>\n",
       "      <th>Age</th>\n",
       "      <td>-0.000440</td>\n",
       "      <td>0.008627</td>\n",
       "      <td>0.280904</td>\n",
       "      <td>1.000000</td>\n",
       "      <td>-0.009025</td>\n",
       "      <td>-0.004027</td>\n",
       "      <td>0.025466</td>\n",
       "      <td>-0.009181</td>\n",
       "      <td>-0.028665</td>\n",
       "      <td>-0.013279</td>\n",
       "      <td>0.082351</td>\n",
       "    </tr>\n",
       "    <tr>\n",
       "      <th>Tenure</th>\n",
       "      <td>-0.008020</td>\n",
       "      <td>-0.015261</td>\n",
       "      <td>-0.012178</td>\n",
       "      <td>-0.009025</td>\n",
       "      <td>1.000000</td>\n",
       "      <td>-0.002227</td>\n",
       "      <td>-0.011655</td>\n",
       "      <td>0.008055</td>\n",
       "      <td>0.017197</td>\n",
       "      <td>0.023078</td>\n",
       "      <td>-0.029180</td>\n",
       "    </tr>\n",
       "    <tr>\n",
       "      <th>CreditScore</th>\n",
       "      <td>0.006868</td>\n",
       "      <td>0.005910</td>\n",
       "      <td>-0.027609</td>\n",
       "      <td>-0.004027</td>\n",
       "      <td>-0.002227</td>\n",
       "      <td>1.000000</td>\n",
       "      <td>0.007027</td>\n",
       "      <td>-0.002511</td>\n",
       "      <td>0.012281</td>\n",
       "      <td>-0.005874</td>\n",
       "      <td>0.025745</td>\n",
       "    </tr>\n",
       "    <tr>\n",
       "      <th>Balance</th>\n",
       "      <td>-0.009067</td>\n",
       "      <td>-0.012419</td>\n",
       "      <td>0.118533</td>\n",
       "      <td>0.025466</td>\n",
       "      <td>-0.011655</td>\n",
       "      <td>0.007027</td>\n",
       "      <td>1.000000</td>\n",
       "      <td>0.012797</td>\n",
       "      <td>-0.304180</td>\n",
       "      <td>-0.014858</td>\n",
       "      <td>-0.010084</td>\n",
       "    </tr>\n",
       "    <tr>\n",
       "      <th>EstimatedSalary</th>\n",
       "      <td>-0.005988</td>\n",
       "      <td>0.015271</td>\n",
       "      <td>0.012097</td>\n",
       "      <td>-0.009181</td>\n",
       "      <td>0.008055</td>\n",
       "      <td>-0.002511</td>\n",
       "      <td>0.012797</td>\n",
       "      <td>1.000000</td>\n",
       "      <td>0.014204</td>\n",
       "      <td>-0.009933</td>\n",
       "      <td>-0.011421</td>\n",
       "    </tr>\n",
       "    <tr>\n",
       "      <th>NumOfProducts</th>\n",
       "      <td>0.007246</td>\n",
       "      <td>0.016972</td>\n",
       "      <td>-0.047820</td>\n",
       "      <td>-0.028665</td>\n",
       "      <td>0.017197</td>\n",
       "      <td>0.012281</td>\n",
       "      <td>-0.304180</td>\n",
       "      <td>0.014204</td>\n",
       "      <td>1.000000</td>\n",
       "      <td>0.003183</td>\n",
       "      <td>0.009612</td>\n",
       "    </tr>\n",
       "    <tr>\n",
       "      <th>HasChckng</th>\n",
       "      <td>0.000599</td>\n",
       "      <td>-0.014025</td>\n",
       "      <td>-0.007138</td>\n",
       "      <td>-0.013279</td>\n",
       "      <td>0.023078</td>\n",
       "      <td>-0.005874</td>\n",
       "      <td>-0.014858</td>\n",
       "      <td>-0.009933</td>\n",
       "      <td>0.003183</td>\n",
       "      <td>1.000000</td>\n",
       "      <td>-0.011866</td>\n",
       "    </tr>\n",
       "    <tr>\n",
       "      <th>IsActiveMember</th>\n",
       "      <td>0.012044</td>\n",
       "      <td>0.001665</td>\n",
       "      <td>-0.156128</td>\n",
       "      <td>0.082351</td>\n",
       "      <td>-0.029180</td>\n",
       "      <td>0.025745</td>\n",
       "      <td>-0.010084</td>\n",
       "      <td>-0.011421</td>\n",
       "      <td>0.009612</td>\n",
       "      <td>-0.011866</td>\n",
       "      <td>1.000000</td>\n",
       "    </tr>\n",
       "  </tbody>\n",
       "</table>\n",
       "</div>"
      ],
      "text/plain": [
       "                 RowNumber  CustomerId    Exited       Age    Tenure  \\\n",
       "RowNumber         1.000000    0.004202 -0.016571 -0.000440 -0.008020   \n",
       "CustomerId        0.004202    1.000000 -0.006248  0.008627 -0.015261   \n",
       "Exited           -0.016571   -0.006248  1.000000  0.280904 -0.012178   \n",
       "Age              -0.000440    0.008627  0.280904  1.000000 -0.009025   \n",
       "Tenure           -0.008020   -0.015261 -0.012178 -0.009025  1.000000   \n",
       "CreditScore       0.006868    0.005910 -0.027609 -0.004027 -0.002227   \n",
       "Balance          -0.009067   -0.012419  0.118533  0.025466 -0.011655   \n",
       "EstimatedSalary  -0.005988    0.015271  0.012097 -0.009181  0.008055   \n",
       "NumOfProducts     0.007246    0.016972 -0.047820 -0.028665  0.017197   \n",
       "HasChckng         0.000599   -0.014025 -0.007138 -0.013279  0.023078   \n",
       "IsActiveMember    0.012044    0.001665 -0.156128  0.082351 -0.029180   \n",
       "\n",
       "                 CreditScore   Balance  EstimatedSalary  NumOfProducts  \\\n",
       "RowNumber           0.006868 -0.009067        -0.005988       0.007246   \n",
       "CustomerId          0.005910 -0.012419         0.015271       0.016972   \n",
       "Exited             -0.027609  0.118533         0.012097      -0.047820   \n",
       "Age                -0.004027  0.025466        -0.009181      -0.028665   \n",
       "Tenure             -0.002227 -0.011655         0.008055       0.017197   \n",
       "CreditScore         1.000000  0.007027        -0.002511       0.012281   \n",
       "Balance             0.007027  1.000000         0.012797      -0.304180   \n",
       "EstimatedSalary    -0.002511  0.012797         1.000000       0.014204   \n",
       "NumOfProducts       0.012281 -0.304180         0.014204       1.000000   \n",
       "HasChckng          -0.005874 -0.014858        -0.009933       0.003183   \n",
       "IsActiveMember      0.025745 -0.010084        -0.011421       0.009612   \n",
       "\n",
       "                 HasChckng  IsActiveMember  \n",
       "RowNumber         0.000599        0.012044  \n",
       "CustomerId       -0.014025        0.001665  \n",
       "Exited           -0.007138       -0.156128  \n",
       "Age              -0.013279        0.082351  \n",
       "Tenure            0.023078       -0.029180  \n",
       "CreditScore      -0.005874        0.025745  \n",
       "Balance          -0.014858       -0.010084  \n",
       "EstimatedSalary  -0.009933       -0.011421  \n",
       "NumOfProducts     0.003183        0.009612  \n",
       "HasChckng         1.000000       -0.011866  \n",
       "IsActiveMember   -0.011866        1.000000  "
      ]
     },
     "execution_count": 102,
     "metadata": {},
     "output_type": "execute_result"
    }
   ],
   "source": [
    "all_data.corr()"
   ]
  },
  {
   "cell_type": "code",
   "execution_count": 135,
   "id": "308ef589",
   "metadata": {},
   "outputs": [
    {
     "data": {
      "image/png": "[encoded data removed]",
      "text/plain": [
       "<Figure size 1080x1080 with 2 Axes>"
      ]
     },
     "metadata": {
      "needs_background": "light"
     },
     "output_type": "display_data"
    }
   ],
   "source": [
    "plt.figure(figsize = (15, 15))\n",
    "corr = all_data.corr()\n",
    "sns.heatmap(corr, cmap=\"YlGnBu\", annot = True,linewidths = 0.5,)\n",
    "plt.show()"
   ]
  },
  {
   "cell_type": "code",
   "execution_count": 163,
   "id": "81d9177b",
   "metadata": {},
   "outputs": [
    {
     "data": {
      "text/html": [
       "<div>\n",
       "<style scoped>\n",
       "    .dataframe tbody tr th:only-of-type {\n",
       "        vertical-align: middle;\n",
       "    }\n",
       "\n",
       "    .dataframe tbody tr th {\n",
       "        vertical-align: top;\n",
       "    }\n",
       "\n",
       "    .dataframe thead th {\n",
       "        text-align: right;\n",
       "    }\n",
       "</style>\n",
       "<table border=\"1\" class=\"dataframe\">\n",
       "  <thead>\n",
       "    <tr style=\"text-align: right;\">\n",
       "      <th></th>\n",
       "      <th>Geography</th>\n",
       "      <th>RowNumber</th>\n",
       "    </tr>\n",
       "  </thead>\n",
       "  <tbody>\n",
       "    <tr>\n",
       "      <th>0</th>\n",
       "      <td>Central</td>\n",
       "      <td>2477</td>\n",
       "    </tr>\n",
       "    <tr>\n",
       "      <th>1</th>\n",
       "      <td>East</td>\n",
       "      <td>2509</td>\n",
       "    </tr>\n",
       "    <tr>\n",
       "      <th>2</th>\n",
       "      <td>West</td>\n",
       "      <td>5014</td>\n",
       "    </tr>\n",
       "  </tbody>\n",
       "</table>\n",
       "</div>"
      ],
      "text/plain": [
       "  Geography  RowNumber\n",
       "0   Central       2477\n",
       "1      East       2509\n",
       "2      West       5014"
      ]
     },
     "execution_count": 163,
     "metadata": {},
     "output_type": "execute_result"
    }
   ],
   "source": [
    "#rowcount of each area\n",
    "filtereddata=all_data.groupby('Geography').RowNumber.count().reset_index()\n",
    "filtereddata"
   ]
  },
  {
   "cell_type": "code",
   "execution_count": 179,
   "id": "5ad74b4a",
   "metadata": {},
   "outputs": [
    {
     "name": "stdout",
     "output_type": "stream",
     "text": [
      "  Geography  Exited  RowNumber\n",
      "0   Central       0       2064\n",
      "1   Central       1        413\n",
      "2      East       0       1695\n",
      "3      East       1        814\n",
      "4      West       0       4204\n",
      "5      West       1        810\n"
     ]
    }
   ],
   "source": [
    "filtereddata1=all_data.groupby(['Geography','Exited']).RowNumber.count().reset_index()\n",
    "filtereddata1.pivot(columns='Geography',index='Exited',values='RowNumber').reset_index(inplace=True)\n",
    "print(filtereddata1)"
   ]
  },
  {
   "cell_type": "code",
   "execution_count": 174,
   "id": "381503f5",
   "metadata": {},
   "outputs": [
    {
     "data": {
      "text/plain": [
       "Geography\n",
       "Central    10\n",
       "East       30\n",
       "West       10\n",
       "Name: Tenure, dtype: int64"
      ]
     },
     "execution_count": 174,
     "metadata": {},
     "output_type": "execute_result"
    }
   ],
   "source": [
    "#  maximum tenure of customer at each area\n",
    "\n",
    "all_data.groupby('Geography').Tenure.max() "
   ]
  },
  {
   "cell_type": "code",
   "execution_count": 103,
   "id": "b0486e11",
   "metadata": {},
   "outputs": [
    {
     "data": {
      "text/plain": [
       "<AxesSubplot:xlabel='Geography'>"
      ]
     },
     "execution_count": 103,
     "metadata": {},
     "output_type": "execute_result"
    },
    {
     "data": {
      "image/png": "[encoded data removed]",
      "text/plain": [
       "<Figure size 1440x720 with 1 Axes>"
      ]
     },
     "metadata": {
      "needs_background": "light"
     },
     "output_type": "display_data"
    }
   ],
   "source": [
    "# exited vs geography\n",
    "all_data.groupby([\"Geography\", \"Exited\"]).size().unstack().plot(kind='bar', stacked=True, figsize=(20,10)) "
   ]
  },
  {
   "cell_type": "code",
   "execution_count": 104,
   "id": "f3bcedc5",
   "metadata": {},
   "outputs": [
    {
     "data": {
      "text/plain": [
       "<AxesSubplot:xlabel='Geography,Gender'>"
      ]
     },
     "execution_count": 104,
     "metadata": {},
     "output_type": "execute_result"
    },
    {
     "data": {
      "image/png": "[encoded data removed]",
      "text/plain": [
       "<Figure size 1440x720 with 1 Axes>"
      ]
     },
     "metadata": {
      "needs_background": "light"
     },
     "output_type": "display_data"
    }
   ],
   "source": [
    "# based on Gender+Geography\n",
    "all_data.groupby([\"Geography\",\"Gender\", \"Exited\"]).size().unstack().plot(kind='bar', stacked=True, figsize=(20,10))"
   ]
  },
  {
   "cell_type": "code",
   "execution_count": 105,
   "id": "568e9e46",
   "metadata": {},
   "outputs": [
    {
     "data": {
      "text/plain": [
       "RowNumber            int64\n",
       "CustomerId           int64\n",
       "Exited               int64\n",
       "Surname             string\n",
       "Geography           string\n",
       "Gender              string\n",
       "Age                  int64\n",
       "Tenure               int64\n",
       "CreditScore          int64\n",
       "Balance            float64\n",
       "EstimatedSalary    float64\n",
       "NumOfProducts        int64\n",
       "HasChckng            int64\n",
       "IsActiveMember       int64\n",
       "dtype: object"
      ]
     },
     "execution_count": 105,
     "metadata": {},
     "output_type": "execute_result"
    }
   ],
   "source": [
    "all_data = all_data.astype({\"CustomerId\":'int', \"Exited\":'int',\"IsActiveMember\":'int',\"NumOfProducts\":'int',\"Age\":'int',\"Tenure\":'int','HasChckng':'int','IsActiveMember':'int','Gender':\"string\",\"Surname\":\"string\",\"Geography\":\"string\",\"CreditScore\":'int'}) \n",
    "all_data.dtypes"
   ]
  },
  {
   "cell_type": "code",
   "execution_count": 182,
   "id": "f0195752",
   "metadata": {},
   "outputs": [
    {
     "data": {
      "text/html": [
       "<div>\n",
       "<style scoped>\n",
       "    .dataframe tbody tr th:only-of-type {\n",
       "        vertical-align: middle;\n",
       "    }\n",
       "\n",
       "    .dataframe tbody tr th {\n",
       "        vertical-align: top;\n",
       "    }\n",
       "\n",
       "    .dataframe thead th {\n",
       "        text-align: right;\n",
       "    }\n",
       "</style>\n",
       "<table border=\"1\" class=\"dataframe\">\n",
       "  <thead>\n",
       "    <tr style=\"text-align: right;\">\n",
       "      <th></th>\n",
       "      <th>Exited</th>\n",
       "      <th>0</th>\n",
       "      <th>1</th>\n",
       "    </tr>\n",
       "    <tr>\n",
       "      <th>Geography</th>\n",
       "      <th>Gender</th>\n",
       "      <th></th>\n",
       "      <th></th>\n",
       "    </tr>\n",
       "  </thead>\n",
       "  <tbody>\n",
       "    <tr>\n",
       "      <th rowspan=\"3\" valign=\"top\">Central</th>\n",
       "      <th>Female</th>\n",
       "      <td>856.0</td>\n",
       "      <td>229.0</td>\n",
       "    </tr>\n",
       "    <tr>\n",
       "      <th>Male</th>\n",
       "      <td>1206.0</td>\n",
       "      <td>181.0</td>\n",
       "    </tr>\n",
       "    <tr>\n",
       "      <th>Neutral</th>\n",
       "      <td>2.0</td>\n",
       "      <td>3.0</td>\n",
       "    </tr>\n",
       "    <tr>\n",
       "      <th rowspan=\"3\" valign=\"top\">East</th>\n",
       "      <th>Female</th>\n",
       "      <td>745.0</td>\n",
       "      <td>448.0</td>\n",
       "    </tr>\n",
       "    <tr>\n",
       "      <th>Male</th>\n",
       "      <td>950.0</td>\n",
       "      <td>365.0</td>\n",
       "    </tr>\n",
       "    <tr>\n",
       "      <th>Neutral</th>\n",
       "      <td>NaN</td>\n",
       "      <td>1.0</td>\n",
       "    </tr>\n",
       "    <tr>\n",
       "      <th rowspan=\"3\" valign=\"top\">West</th>\n",
       "      <th>Female</th>\n",
       "      <td>1801.0</td>\n",
       "      <td>460.0</td>\n",
       "    </tr>\n",
       "    <tr>\n",
       "      <th>Male</th>\n",
       "      <td>2401.0</td>\n",
       "      <td>350.0</td>\n",
       "    </tr>\n",
       "    <tr>\n",
       "      <th>Neutral</th>\n",
       "      <td>2.0</td>\n",
       "      <td>NaN</td>\n",
       "    </tr>\n",
       "  </tbody>\n",
       "</table>\n",
       "</div>"
      ],
      "text/plain": [
       "Exited                  0      1\n",
       "Geography Gender                \n",
       "Central   Female    856.0  229.0\n",
       "          Male     1206.0  181.0\n",
       "          Neutral     2.0    3.0\n",
       "East      Female    745.0  448.0\n",
       "          Male      950.0  365.0\n",
       "          Neutral     NaN    1.0\n",
       "West      Female   1801.0  460.0\n",
       "          Male     2401.0  350.0\n",
       "          Neutral     2.0    NaN"
      ]
     },
     "execution_count": 182,
     "metadata": {},
     "output_type": "execute_result"
    }
   ],
   "source": [
    "filterdata1=all_data.groupby([\"Geography\",\"Gender\", \"Exited\"]).size().unstack()\n",
    "filterdata1\n",
    "# conclusion-many females have exited their geographical area"
   ]
  },
  {
   "cell_type": "code",
   "execution_count": 274,
   "id": "adc355e2",
   "metadata": {},
   "outputs": [
    {
     "data": {
      "image/png": "[encoded data removed]",
      "text/plain": [
       "<Figure size 432x288 with 1 Axes>"
      ]
     },
     "metadata": {},
     "output_type": "display_data"
    }
   ],
   "source": [
    "plt.hist(all_data['Age'])\n",
    "plt.show()"
   ]
  },
  {
   "cell_type": "code",
   "execution_count": 278,
   "id": "0180077a",
   "metadata": {},
   "outputs": [
    {
     "data": {
      "text/html": [
       "<div>\n",
       "<style scoped>\n",
       "    .dataframe tbody tr th:only-of-type {\n",
       "        vertical-align: middle;\n",
       "    }\n",
       "\n",
       "    .dataframe tbody tr th {\n",
       "        vertical-align: top;\n",
       "    }\n",
       "\n",
       "    .dataframe thead th {\n",
       "        text-align: right;\n",
       "    }\n",
       "</style>\n",
       "<table border=\"1\" class=\"dataframe\">\n",
       "  <thead>\n",
       "    <tr style=\"text-align: right;\">\n",
       "      <th></th>\n",
       "      <th>Age</th>\n",
       "    </tr>\n",
       "    <tr>\n",
       "      <th>Exited</th>\n",
       "      <th></th>\n",
       "    </tr>\n",
       "  </thead>\n",
       "  <tbody>\n",
       "    <tr>\n",
       "      <th>0</th>\n",
       "      <td>36.0</td>\n",
       "    </tr>\n",
       "    <tr>\n",
       "      <th>1</th>\n",
       "      <td>45.0</td>\n",
       "    </tr>\n",
       "  </tbody>\n",
       "</table>\n",
       "</div>"
      ],
      "text/plain": [
       "         Age\n",
       "Exited      \n",
       "0       36.0\n",
       "1       45.0"
      ]
     },
     "execution_count": 278,
     "metadata": {},
     "output_type": "execute_result"
    }
   ],
   "source": [
    "all_data[['Exited','Age']].groupby('Exited').median()\n",
    "# older ppl have exited more"
   ]
  },
  {
   "cell_type": "code",
   "execution_count": 107,
   "id": "00aac267",
   "metadata": {},
   "outputs": [
    {
     "data": {
      "text/plain": [
       "1    5151\n",
       "0    4849\n",
       "Name: IsActiveMember, dtype: int64"
      ]
     },
     "execution_count": 107,
     "metadata": {},
     "output_type": "execute_result"
    }
   ],
   "source": [
    "# total no of IsActiveMember \n",
    "all_data.IsActiveMember.value_counts()"
   ]
  },
  {
   "cell_type": "code",
   "execution_count": 191,
   "id": "5be56328",
   "metadata": {},
   "outputs": [
    {
     "data": {
      "text/plain": [
       "<AxesSubplot:xlabel='IsActiveMember', ylabel='count'>"
      ]
     },
     "execution_count": 191,
     "metadata": {},
     "output_type": "execute_result"
    },
    {
     "data": {
      "image/png": "[encoded data removed]",
      "text/plain": [
       "<Figure size 432x288 with 1 Axes>"
      ]
     },
     "metadata": {
      "needs_background": "light"
     },
     "output_type": "display_data"
    }
   ],
   "source": [
    "sns.countplot(all_data[\"IsActiveMember\"])"
   ]
  },
  {
   "cell_type": "code",
   "execution_count": 200,
   "id": "49eb8a07",
   "metadata": {},
   "outputs": [
    {
     "data": {
      "text/html": [
       "<div>\n",
       "<style scoped>\n",
       "    .dataframe tbody tr th:only-of-type {\n",
       "        vertical-align: middle;\n",
       "    }\n",
       "\n",
       "    .dataframe tbody tr th {\n",
       "        vertical-align: top;\n",
       "    }\n",
       "\n",
       "    .dataframe thead th {\n",
       "        text-align: right;\n",
       "    }\n",
       "</style>\n",
       "<table border=\"1\" class=\"dataframe\">\n",
       "  <thead>\n",
       "    <tr style=\"text-align: right;\">\n",
       "      <th>IsActiveMember</th>\n",
       "      <th>0</th>\n",
       "      <th>1</th>\n",
       "    </tr>\n",
       "    <tr>\n",
       "      <th>Geography</th>\n",
       "      <th></th>\n",
       "      <th></th>\n",
       "    </tr>\n",
       "  </thead>\n",
       "  <tbody>\n",
       "    <tr>\n",
       "      <th>Central</th>\n",
       "      <td>1165</td>\n",
       "      <td>1312</td>\n",
       "    </tr>\n",
       "    <tr>\n",
       "      <th>East</th>\n",
       "      <td>1261</td>\n",
       "      <td>1248</td>\n",
       "    </tr>\n",
       "    <tr>\n",
       "      <th>West</th>\n",
       "      <td>2423</td>\n",
       "      <td>2591</td>\n",
       "    </tr>\n",
       "  </tbody>\n",
       "</table>\n",
       "</div>"
      ],
      "text/plain": [
       "IsActiveMember     0     1\n",
       "Geography                 \n",
       "Central         1165  1312\n",
       "East            1261  1248\n",
       "West            2423  2591"
      ]
     },
     "execution_count": 200,
     "metadata": {},
     "output_type": "execute_result"
    }
   ],
   "source": [
    "# total no of ActiveMember and non active members in different zones\n",
    "group_by_active = all_data.groupby(['Geography','IsActiveMember'])\n",
    "count_active_by_geo = group_by_active.size().unstack()\n",
    "count_active_by_geo"
   ]
  },
  {
   "cell_type": "code",
   "execution_count": 109,
   "id": "380edd61",
   "metadata": {},
   "outputs": [
    {
     "data": {
      "text/plain": [
       "<AxesSubplot:ylabel='Geography'>"
      ]
     },
     "execution_count": 109,
     "metadata": {},
     "output_type": "execute_result"
    },
    {
     "data": {
      "image/png": "[encoded data removed]",
      "text/plain": [
       "<Figure size 1152x432 with 1 Axes>"
      ]
     },
     "metadata": {
      "needs_background": "light"
     },
     "output_type": "display_data"
    }
   ],
   "source": [
    "count_active_by_geo.plot(kind='barh', stacked=True, figsize=[16,6], colormap='winter')"
   ]
  },
  {
   "cell_type": "code",
   "execution_count": 222,
   "id": "d82d1b52",
   "metadata": {},
   "outputs": [
    {
     "data": {
      "text/html": [
       "<div>\n",
       "<style scoped>\n",
       "    .dataframe tbody tr th:only-of-type {\n",
       "        vertical-align: middle;\n",
       "    }\n",
       "\n",
       "    .dataframe tbody tr th {\n",
       "        vertical-align: top;\n",
       "    }\n",
       "\n",
       "    .dataframe thead th {\n",
       "        text-align: right;\n",
       "    }\n",
       "</style>\n",
       "<table border=\"1\" class=\"dataframe\">\n",
       "  <thead>\n",
       "    <tr style=\"text-align: right;\">\n",
       "      <th>Geography</th>\n",
       "      <th>Central</th>\n",
       "      <th>East</th>\n",
       "      <th>West</th>\n",
       "    </tr>\n",
       "    <tr>\n",
       "      <th>CustomerId</th>\n",
       "      <th></th>\n",
       "      <th></th>\n",
       "      <th></th>\n",
       "    </tr>\n",
       "  </thead>\n",
       "  <tbody>\n",
       "    <tr>\n",
       "      <th>15565701</th>\n",
       "      <td>9.0</td>\n",
       "      <td>NaN</td>\n",
       "      <td>NaN</td>\n",
       "    </tr>\n",
       "    <tr>\n",
       "      <th>15565706</th>\n",
       "      <td>1.0</td>\n",
       "      <td>NaN</td>\n",
       "      <td>NaN</td>\n",
       "    </tr>\n",
       "    <tr>\n",
       "      <th>15565714</th>\n",
       "      <td>NaN</td>\n",
       "      <td>NaN</td>\n",
       "      <td>1.0</td>\n",
       "    </tr>\n",
       "    <tr>\n",
       "      <th>15565779</th>\n",
       "      <td>NaN</td>\n",
       "      <td>6.0</td>\n",
       "      <td>NaN</td>\n",
       "    </tr>\n",
       "    <tr>\n",
       "      <th>15565796</th>\n",
       "      <td>NaN</td>\n",
       "      <td>10.0</td>\n",
       "      <td>NaN</td>\n",
       "    </tr>\n",
       "    <tr>\n",
       "      <th>...</th>\n",
       "      <td>...</td>\n",
       "      <td>...</td>\n",
       "      <td>...</td>\n",
       "    </tr>\n",
       "    <tr>\n",
       "      <th>15815628</th>\n",
       "      <td>NaN</td>\n",
       "      <td>NaN</td>\n",
       "      <td>8.0</td>\n",
       "    </tr>\n",
       "    <tr>\n",
       "      <th>15815645</th>\n",
       "      <td>NaN</td>\n",
       "      <td>NaN</td>\n",
       "      <td>8.0</td>\n",
       "    </tr>\n",
       "    <tr>\n",
       "      <th>15815656</th>\n",
       "      <td>NaN</td>\n",
       "      <td>9.0</td>\n",
       "      <td>NaN</td>\n",
       "    </tr>\n",
       "    <tr>\n",
       "      <th>15815660</th>\n",
       "      <td>NaN</td>\n",
       "      <td>NaN</td>\n",
       "      <td>1.0</td>\n",
       "    </tr>\n",
       "    <tr>\n",
       "      <th>15815690</th>\n",
       "      <td>3.0</td>\n",
       "      <td>NaN</td>\n",
       "      <td>NaN</td>\n",
       "    </tr>\n",
       "  </tbody>\n",
       "</table>\n",
       "<p>10000 rows × 3 columns</p>\n",
       "</div>"
      ],
      "text/plain": [
       "Geography   Central  East  West\n",
       "CustomerId                     \n",
       "15565701        9.0   NaN   NaN\n",
       "15565706        1.0   NaN   NaN\n",
       "15565714        NaN   NaN   1.0\n",
       "15565779        NaN   6.0   NaN\n",
       "15565796        NaN  10.0   NaN\n",
       "...             ...   ...   ...\n",
       "15815628        NaN   NaN   8.0\n",
       "15815645        NaN   NaN   8.0\n",
       "15815656        NaN   9.0   NaN\n",
       "15815660        NaN   NaN   1.0\n",
       "15815690        3.0   NaN   NaN\n",
       "\n",
       "[10000 rows x 3 columns]"
      ]
     },
     "execution_count": 222,
     "metadata": {},
     "output_type": "execute_result"
    }
   ],
   "source": [
    "# all_data['Tenure'].interpolate(method ='linear', limit_direction ='forward')\n",
    "tenure= all_data.pivot_table(index='CustomerId', columns='Geography', values='Tenure')\n",
    "tenure"
   ]
  },
  {
   "cell_type": "code",
   "execution_count": 113,
   "id": "5f904042",
   "metadata": {},
   "outputs": [
    {
     "data": {
      "text/html": [
       "<div>\n",
       "<style scoped>\n",
       "    .dataframe tbody tr th:only-of-type {\n",
       "        vertical-align: middle;\n",
       "    }\n",
       "\n",
       "    .dataframe tbody tr th {\n",
       "        vertical-align: top;\n",
       "    }\n",
       "\n",
       "    .dataframe thead th {\n",
       "        text-align: right;\n",
       "    }\n",
       "</style>\n",
       "<table border=\"1\" class=\"dataframe\">\n",
       "  <thead>\n",
       "    <tr style=\"text-align: right;\">\n",
       "      <th></th>\n",
       "      <th>RowNumber</th>\n",
       "      <th>CustomerId</th>\n",
       "      <th>Exited</th>\n",
       "      <th>Surname</th>\n",
       "      <th>Geography</th>\n",
       "      <th>Gender</th>\n",
       "      <th>Age</th>\n",
       "      <th>Tenure</th>\n",
       "      <th>CreditScore</th>\n",
       "      <th>Balance</th>\n",
       "      <th>EstimatedSalary</th>\n",
       "      <th>NumOfProducts</th>\n",
       "      <th>HasChckng</th>\n",
       "      <th>IsActiveMember</th>\n",
       "    </tr>\n",
       "  </thead>\n",
       "  <tbody>\n",
       "    <tr>\n",
       "      <th>0</th>\n",
       "      <td>1</td>\n",
       "      <td>15634602</td>\n",
       "      <td>1</td>\n",
       "      <td>Hargrave</td>\n",
       "      <td>West</td>\n",
       "      <td>Female</td>\n",
       "      <td>42</td>\n",
       "      <td>2</td>\n",
       "      <td>619</td>\n",
       "      <td>0.00</td>\n",
       "      <td>101348.88</td>\n",
       "      <td>1</td>\n",
       "      <td>1</td>\n",
       "      <td>1</td>\n",
       "    </tr>\n",
       "    <tr>\n",
       "      <th>1</th>\n",
       "      <td>2</td>\n",
       "      <td>15647311</td>\n",
       "      <td>0</td>\n",
       "      <td>Hill</td>\n",
       "      <td>Central</td>\n",
       "      <td>Female</td>\n",
       "      <td>41</td>\n",
       "      <td>1</td>\n",
       "      <td>608</td>\n",
       "      <td>83807.86</td>\n",
       "      <td>112542.58</td>\n",
       "      <td>1</td>\n",
       "      <td>0</td>\n",
       "      <td>1</td>\n",
       "    </tr>\n",
       "    <tr>\n",
       "      <th>2</th>\n",
       "      <td>3</td>\n",
       "      <td>15619304</td>\n",
       "      <td>1</td>\n",
       "      <td>Onio</td>\n",
       "      <td>West</td>\n",
       "      <td>Female</td>\n",
       "      <td>42</td>\n",
       "      <td>8</td>\n",
       "      <td>502</td>\n",
       "      <td>159660.80</td>\n",
       "      <td>113931.57</td>\n",
       "      <td>3</td>\n",
       "      <td>1</td>\n",
       "      <td>0</td>\n",
       "    </tr>\n",
       "    <tr>\n",
       "      <th>3</th>\n",
       "      <td>4</td>\n",
       "      <td>15701354</td>\n",
       "      <td>0</td>\n",
       "      <td>Boni</td>\n",
       "      <td>West</td>\n",
       "      <td>Female</td>\n",
       "      <td>39</td>\n",
       "      <td>1</td>\n",
       "      <td>699</td>\n",
       "      <td>0.00</td>\n",
       "      <td>93826.63</td>\n",
       "      <td>2</td>\n",
       "      <td>0</td>\n",
       "      <td>0</td>\n",
       "    </tr>\n",
       "    <tr>\n",
       "      <th>4</th>\n",
       "      <td>5</td>\n",
       "      <td>15737888</td>\n",
       "      <td>0</td>\n",
       "      <td>Mitchell</td>\n",
       "      <td>Central</td>\n",
       "      <td>Female</td>\n",
       "      <td>43</td>\n",
       "      <td>2</td>\n",
       "      <td>850</td>\n",
       "      <td>125510.82</td>\n",
       "      <td>79084.10</td>\n",
       "      <td>1</td>\n",
       "      <td>1</td>\n",
       "      <td>1</td>\n",
       "    </tr>\n",
       "  </tbody>\n",
       "</table>\n",
       "</div>"
      ],
      "text/plain": [
       "   RowNumber  CustomerId  Exited   Surname Geography  Gender  Age  Tenure  \\\n",
       "0          1    15634602       1  Hargrave      West  Female   42       2   \n",
       "1          2    15647311       0      Hill   Central  Female   41       1   \n",
       "2          3    15619304       1      Onio      West  Female   42       8   \n",
       "3          4    15701354       0      Boni      West  Female   39       1   \n",
       "4          5    15737888       0  Mitchell   Central  Female   43       2   \n",
       "\n",
       "   CreditScore    Balance  EstimatedSalary  NumOfProducts  HasChckng  \\\n",
       "0          619       0.00        101348.88              1          1   \n",
       "1          608   83807.86        112542.58              1          0   \n",
       "2          502  159660.80        113931.57              3          1   \n",
       "3          699       0.00         93826.63              2          0   \n",
       "4          850  125510.82         79084.10              1          1   \n",
       "\n",
       "   IsActiveMember  \n",
       "0               1  \n",
       "1               1  \n",
       "2               0  \n",
       "3               0  \n",
       "4               1  "
      ]
     },
     "execution_count": 113,
     "metadata": {},
     "output_type": "execute_result"
    }
   ],
   "source": [
    "all_data.head()"
   ]
  },
  {
   "cell_type": "code",
   "execution_count": 283,
   "id": "9cf17a3e",
   "metadata": {},
   "outputs": [
    {
     "data": {
      "text/plain": [
       "False    9518\n",
       "True      482\n",
       "dtype: int64"
      ]
     },
     "execution_count": 283,
     "metadata": {},
     "output_type": "execute_result"
    }
   ],
   "source": [
    "filterdata3=all_data.groupby(all_data.apply(lambda row:row['HasChckng']==1 & row['Exited']==1 & row['IsActiveMember']==1,axis=1)).size()\n",
    "filterdata3\n",
    "# conclusion-total 482 active customers have exited while having deposit account"
   ]
  },
  {
   "cell_type": "code",
   "execution_count": 271,
   "id": "906ba4e7",
   "metadata": {},
   "outputs": [
    {
     "data": {
      "text/plain": [
       "<AxesSubplot:xlabel='Balance', ylabel='Density'>"
      ]
     },
     "execution_count": 271,
     "metadata": {},
     "output_type": "execute_result"
    },
    {
     "data": {
      "image/png": "[encoded data removed]",
      "text/plain": [
       "<Figure size 432x288 with 1 Axes>"
      ]
     },
     "metadata": {},
     "output_type": "display_data"
    }
   ],
   "source": [
    "sns.distplot(all_data.Balance)\n",
    "# conclusion- many customers have low balance"
   ]
  },
  {
   "cell_type": "code",
   "execution_count": 216,
   "id": "de1f9b5a",
   "metadata": {},
   "outputs": [
    {
     "data": {
      "image/png": "[encoded data removed]",
      "text/plain": [
       "<Figure size 432x288 with 1 Axes>"
      ]
     },
     "metadata": {
      "needs_background": "light"
     },
     "output_type": "display_data"
    }
   ],
   "source": [
    "all_data_credit_west=all_data[all_data['Geography']=='West']['CreditScore'].values\n",
    "all_data_credit_central=all_data[all_data['Geography']=='Central']['CreditScore'].values\n",
    "all_data_credit_east=all_data[all_data['Geography']=='East']['CreditScore'].values\n",
    "dfeast=pd.DataFrame(all_data_credit_east)\n",
    "dfwest=pd.DataFrame(all_data_credit_west)\n",
    "dfcentral=pd.DataFrame(all_data_credit_central)\n",
    "sns.kdeplot(data=dfcentral, shade=True, label=\"CreditScore-Central\")\n",
    "sns.kdeplot(data=dfeast, shade=True, label=\"CreditScore-EAST\")\n",
    "sns.kdeplot(data=dfwest, shade=True, label=\"CreditScore-West\")\n",
    "plt.legend()\n",
    "plt.show()"
   ]
  },
  {
   "cell_type": "code",
   "execution_count": 262,
   "id": "952e6d51",
   "metadata": {},
   "outputs": [
    {
     "name": "stdout",
     "output_type": "stream",
     "text": [
      "10\n",
      "30\n",
      "10\n"
     ]
    }
   ],
   "source": [
    "# comparing tenure area wise\n",
    "df1=all_data[all_data['Geography']=='West']['Tenure'].max()\n",
    "df2=all_data[all_data['Geography']=='East']['Tenure'].max()\n",
    "df3=all_data[all_data['Geography']=='Central']['Tenure'].max()\n",
    "print(df1)\n",
    "print(df2)\n",
    "print(df3)\n",
    "\n",
    "# conclusion- east has served the max tenure with a customer "
   ]
  },
  {
   "cell_type": "code",
   "execution_count": 265,
   "id": "e9c9652c",
   "metadata": {},
   "outputs": [
    {
     "data": {
      "text/html": [
       "<div>\n",
       "<style scoped>\n",
       "    .dataframe tbody tr th:only-of-type {\n",
       "        vertical-align: middle;\n",
       "    }\n",
       "\n",
       "    .dataframe tbody tr th {\n",
       "        vertical-align: top;\n",
       "    }\n",
       "\n",
       "    .dataframe thead th {\n",
       "        text-align: right;\n",
       "    }\n",
       "</style>\n",
       "<table border=\"1\" class=\"dataframe\">\n",
       "  <thead>\n",
       "    <tr style=\"text-align: right;\">\n",
       "      <th></th>\n",
       "      <th>RowNumber</th>\n",
       "      <th>CustomerId</th>\n",
       "      <th>Exited</th>\n",
       "      <th>Surname</th>\n",
       "      <th>Geography</th>\n",
       "      <th>Gender</th>\n",
       "      <th>Age</th>\n",
       "      <th>Tenure</th>\n",
       "      <th>CreditScore</th>\n",
       "      <th>Balance</th>\n",
       "      <th>EstimatedSalary</th>\n",
       "      <th>NumOfProducts</th>\n",
       "      <th>HasChckng</th>\n",
       "      <th>IsActiveMember</th>\n",
       "    </tr>\n",
       "  </thead>\n",
       "  <tbody>\n",
       "    <tr>\n",
       "      <th>0</th>\n",
       "      <td>1</td>\n",
       "      <td>15634602</td>\n",
       "      <td>1</td>\n",
       "      <td>Hargrave</td>\n",
       "      <td>West</td>\n",
       "      <td>Female</td>\n",
       "      <td>42</td>\n",
       "      <td>2</td>\n",
       "      <td>619</td>\n",
       "      <td>0.00</td>\n",
       "      <td>101348.88</td>\n",
       "      <td>1</td>\n",
       "      <td>1</td>\n",
       "      <td>1</td>\n",
       "    </tr>\n",
       "    <tr>\n",
       "      <th>1</th>\n",
       "      <td>2</td>\n",
       "      <td>15647311</td>\n",
       "      <td>0</td>\n",
       "      <td>Hill</td>\n",
       "      <td>Central</td>\n",
       "      <td>Female</td>\n",
       "      <td>41</td>\n",
       "      <td>1</td>\n",
       "      <td>608</td>\n",
       "      <td>83807.86</td>\n",
       "      <td>112542.58</td>\n",
       "      <td>1</td>\n",
       "      <td>0</td>\n",
       "      <td>1</td>\n",
       "    </tr>\n",
       "    <tr>\n",
       "      <th>2</th>\n",
       "      <td>3</td>\n",
       "      <td>15619304</td>\n",
       "      <td>1</td>\n",
       "      <td>Onio</td>\n",
       "      <td>West</td>\n",
       "      <td>Female</td>\n",
       "      <td>42</td>\n",
       "      <td>8</td>\n",
       "      <td>502</td>\n",
       "      <td>159660.80</td>\n",
       "      <td>113931.57</td>\n",
       "      <td>3</td>\n",
       "      <td>1</td>\n",
       "      <td>0</td>\n",
       "    </tr>\n",
       "    <tr>\n",
       "      <th>3</th>\n",
       "      <td>4</td>\n",
       "      <td>15701354</td>\n",
       "      <td>0</td>\n",
       "      <td>Boni</td>\n",
       "      <td>West</td>\n",
       "      <td>Female</td>\n",
       "      <td>39</td>\n",
       "      <td>1</td>\n",
       "      <td>699</td>\n",
       "      <td>0.00</td>\n",
       "      <td>93826.63</td>\n",
       "      <td>2</td>\n",
       "      <td>0</td>\n",
       "      <td>0</td>\n",
       "    </tr>\n",
       "    <tr>\n",
       "      <th>4</th>\n",
       "      <td>5</td>\n",
       "      <td>15737888</td>\n",
       "      <td>0</td>\n",
       "      <td>Mitchell</td>\n",
       "      <td>Central</td>\n",
       "      <td>Female</td>\n",
       "      <td>43</td>\n",
       "      <td>2</td>\n",
       "      <td>850</td>\n",
       "      <td>125510.82</td>\n",
       "      <td>79084.10</td>\n",
       "      <td>1</td>\n",
       "      <td>1</td>\n",
       "      <td>1</td>\n",
       "    </tr>\n",
       "  </tbody>\n",
       "</table>\n",
       "</div>"
      ],
      "text/plain": [
       "   RowNumber  CustomerId  Exited   Surname Geography  Gender  Age  Tenure  \\\n",
       "0          1    15634602       1  Hargrave      West  Female   42       2   \n",
       "1          2    15647311       0      Hill   Central  Female   41       1   \n",
       "2          3    15619304       1      Onio      West  Female   42       8   \n",
       "3          4    15701354       0      Boni      West  Female   39       1   \n",
       "4          5    15737888       0  Mitchell   Central  Female   43       2   \n",
       "\n",
       "   CreditScore    Balance  EstimatedSalary  NumOfProducts  HasChckng  \\\n",
       "0          619       0.00        101348.88              1          1   \n",
       "1          608   83807.86        112542.58              1          0   \n",
       "2          502  159660.80        113931.57              3          1   \n",
       "3          699       0.00         93826.63              2          0   \n",
       "4          850  125510.82         79084.10              1          1   \n",
       "\n",
       "   IsActiveMember  \n",
       "0               1  \n",
       "1               1  \n",
       "2               0  \n",
       "3               0  \n",
       "4               1  "
      ]
     },
     "execution_count": 265,
     "metadata": {},
     "output_type": "execute_result"
    }
   ],
   "source": [
    "all_data.head()"
   ]
  },
  {
   "cell_type": "code",
   "execution_count": 266,
   "id": "b5bdd9cf",
   "metadata": {},
   "outputs": [],
   "source": [
    "all_data_final=all_data.reindex(columns=['RowNumber','CustomerId','Surname','CreditScore','Geography','Gender','Age','Tenure','Balance','NumOfProducts','HasChckng','IsActiveMember','EstimatedSalary','Exited'])"
   ]
  },
  {
   "cell_type": "code",
   "execution_count": 267,
   "id": "09e28cf4",
   "metadata": {},
   "outputs": [
    {
     "data": {
      "text/html": [
       "<div>\n",
       "<style scoped>\n",
       "    .dataframe tbody tr th:only-of-type {\n",
       "        vertical-align: middle;\n",
       "    }\n",
       "\n",
       "    .dataframe tbody tr th {\n",
       "        vertical-align: top;\n",
       "    }\n",
       "\n",
       "    .dataframe thead th {\n",
       "        text-align: right;\n",
       "    }\n",
       "</style>\n",
       "<table border=\"1\" class=\"dataframe\">\n",
       "  <thead>\n",
       "    <tr style=\"text-align: right;\">\n",
       "      <th></th>\n",
       "      <th>RowNumber</th>\n",
       "      <th>CustomerId</th>\n",
       "      <th>Surname</th>\n",
       "      <th>CreditScore</th>\n",
       "      <th>Geography</th>\n",
       "      <th>Gender</th>\n",
       "      <th>Age</th>\n",
       "      <th>Tenure</th>\n",
       "      <th>Balance</th>\n",
       "      <th>NumOfProducts</th>\n",
       "      <th>HasChckng</th>\n",
       "      <th>IsActiveMember</th>\n",
       "      <th>EstimatedSalary</th>\n",
       "      <th>Exited</th>\n",
       "    </tr>\n",
       "  </thead>\n",
       "  <tbody>\n",
       "    <tr>\n",
       "      <th>0</th>\n",
       "      <td>1</td>\n",
       "      <td>15634602</td>\n",
       "      <td>Hargrave</td>\n",
       "      <td>619</td>\n",
       "      <td>West</td>\n",
       "      <td>Female</td>\n",
       "      <td>42</td>\n",
       "      <td>2</td>\n",
       "      <td>0.00</td>\n",
       "      <td>1</td>\n",
       "      <td>1</td>\n",
       "      <td>1</td>\n",
       "      <td>101348.88</td>\n",
       "      <td>1</td>\n",
       "    </tr>\n",
       "    <tr>\n",
       "      <th>1</th>\n",
       "      <td>2</td>\n",
       "      <td>15647311</td>\n",
       "      <td>Hill</td>\n",
       "      <td>608</td>\n",
       "      <td>Central</td>\n",
       "      <td>Female</td>\n",
       "      <td>41</td>\n",
       "      <td>1</td>\n",
       "      <td>83807.86</td>\n",
       "      <td>1</td>\n",
       "      <td>0</td>\n",
       "      <td>1</td>\n",
       "      <td>112542.58</td>\n",
       "      <td>0</td>\n",
       "    </tr>\n",
       "    <tr>\n",
       "      <th>2</th>\n",
       "      <td>3</td>\n",
       "      <td>15619304</td>\n",
       "      <td>Onio</td>\n",
       "      <td>502</td>\n",
       "      <td>West</td>\n",
       "      <td>Female</td>\n",
       "      <td>42</td>\n",
       "      <td>8</td>\n",
       "      <td>159660.80</td>\n",
       "      <td>3</td>\n",
       "      <td>1</td>\n",
       "      <td>0</td>\n",
       "      <td>113931.57</td>\n",
       "      <td>1</td>\n",
       "    </tr>\n",
       "    <tr>\n",
       "      <th>3</th>\n",
       "      <td>4</td>\n",
       "      <td>15701354</td>\n",
       "      <td>Boni</td>\n",
       "      <td>699</td>\n",
       "      <td>West</td>\n",
       "      <td>Female</td>\n",
       "      <td>39</td>\n",
       "      <td>1</td>\n",
       "      <td>0.00</td>\n",
       "      <td>2</td>\n",
       "      <td>0</td>\n",
       "      <td>0</td>\n",
       "      <td>93826.63</td>\n",
       "      <td>0</td>\n",
       "    </tr>\n",
       "    <tr>\n",
       "      <th>4</th>\n",
       "      <td>5</td>\n",
       "      <td>15737888</td>\n",
       "      <td>Mitchell</td>\n",
       "      <td>850</td>\n",
       "      <td>Central</td>\n",
       "      <td>Female</td>\n",
       "      <td>43</td>\n",
       "      <td>2</td>\n",
       "      <td>125510.82</td>\n",
       "      <td>1</td>\n",
       "      <td>1</td>\n",
       "      <td>1</td>\n",
       "      <td>79084.10</td>\n",
       "      <td>0</td>\n",
       "    </tr>\n",
       "  </tbody>\n",
       "</table>\n",
       "</div>"
      ],
      "text/plain": [
       "   RowNumber  CustomerId   Surname  CreditScore Geography  Gender  Age  \\\n",
       "0          1    15634602  Hargrave          619      West  Female   42   \n",
       "1          2    15647311      Hill          608   Central  Female   41   \n",
       "2          3    15619304      Onio          502      West  Female   42   \n",
       "3          4    15701354      Boni          699      West  Female   39   \n",
       "4          5    15737888  Mitchell          850   Central  Female   43   \n",
       "\n",
       "   Tenure    Balance  NumOfProducts  HasChckng  IsActiveMember  \\\n",
       "0       2       0.00              1          1               1   \n",
       "1       1   83807.86              1          0               1   \n",
       "2       8  159660.80              3          1               0   \n",
       "3       1       0.00              2          0               0   \n",
       "4       2  125510.82              1          1               1   \n",
       "\n",
       "   EstimatedSalary  Exited  \n",
       "0        101348.88       1  \n",
       "1        112542.58       0  \n",
       "2        113931.57       1  \n",
       "3         93826.63       0  \n",
       "4         79084.10       0  "
      ]
     },
     "execution_count": 267,
     "metadata": {},
     "output_type": "execute_result"
    }
   ],
   "source": [
    "all_data_final.head()"
   ]
  },
  {
   "cell_type": "code",
   "execution_count": null,
   "id": "4092149c",
   "metadata": {},
   "outputs": [],
   "source": []
  }
 ],
 "metadata": {
  "kernelspec": {
   "display_name": "Python 3 (ipykernel)",
   "language": "python",
   "name": "python3"
  },
  "language_info": {
   "codemirror_mode": {
    "name": "ipython",
    "version": 3
   },
   "file_extension": ".py",
   "mimetype": "text/x-python",
   "name": "python",
   "nbconvert_exporter": "python",
   "pygments_lexer": "ipython3",
   "version": "3.7.3"
  }
 },
 "nbformat": 4,
 "nbformat_minor": 5
}
